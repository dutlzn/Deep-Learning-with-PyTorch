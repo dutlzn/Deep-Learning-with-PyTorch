{
 "cells": [
  {
   "cell_type": "code",
   "execution_count": 1,
   "metadata": {},
   "outputs": [],
   "source": [
    "import numpy as np \n",
    "import matplotlib.pyplot as plt "
   ]
  },
  {
   "cell_type": "code",
   "execution_count": 18,
   "metadata": {},
   "outputs": [],
   "source": [
    "x_data = [1.0, 2.0, 3.0]\n",
    "y_data = [2.0, 4.0, 6.0]\n",
    "w = 1.0\n",
    "w_list = []\n",
    "mse_list = []"
   ]
  },
  {
   "cell_type": "code",
   "execution_count": 19,
   "metadata": {},
   "outputs": [],
   "source": [
    "def forward(x):\n",
    "    return x*w"
   ]
  },
  {
   "cell_type": "code",
   "execution_count": 20,
   "metadata": {},
   "outputs": [],
   "source": [
    "def cost(x_val, y_val):\n",
    "    cost = 0\n",
    "    for x, y in zip(x_val, y_val):\n",
    "        y_pred = forward(x)\n",
    "        cost += (y_pred-y)**2\n",
    "    return cost / len(x_val)\n",
    "'''\n",
    "随机梯度下降 只选一个样本\n",
    "'''\n",
    "def loss(x_val, y_val):\n",
    "    y_pred = forward(x_val)\n",
    "    return (y_pred - y_val) ** 2\n",
    "def grad(x_val, y_val):\n",
    "    return 2 * x * (x * w - y)"
   ]
  },
  {
   "cell_type": "code",
   "execution_count": 21,
   "metadata": {},
   "outputs": [],
   "source": [
    "def gradient(x_val, y_val):\n",
    "    grad = 0\n",
    "    for x, y in zip(x_val, y_val):\n",
    "        grad += 2 * x * (x * w - y)\n",
    "    return grad / len(x_val)"
   ]
  },
  {
   "cell_type": "code",
   "execution_count": 23,
   "metadata": {},
   "outputs": [
    {
     "name": "stdout",
     "output_type": "stream",
     "text": [
      "预测之前: 4 7.999777758621207\n",
      "Epoch: 0 w= 1.9999496252874736 loss= 1.4405775547323328e-08\n",
      "Epoch: 1 w= 1.9999543269273095 loss= 1.1842187756547517e-08\n",
      "Epoch: 2 w= 1.9999585897474272 loss= 9.73480465527282e-09\n",
      "Epoch: 3 w= 1.999962454704334 loss= 8.002442084652284e-09\n",
      "Epoch: 4 w= 1.9999659589319294 loss= 6.578363057677792e-09\n",
      "Epoch: 5 w= 1.9999691360982828 loss= 5.407706805106763e-09\n",
      "Epoch: 6 w= 1.9999720167291097 loss= 4.445375336336258e-09\n",
      "Epoch: 7 w= 1.9999746285010596 loss= 3.654296098708337e-09\n",
      "Epoch: 8 w= 1.9999769965076273 loss= 3.0039938062398064e-09\n",
      "Epoch: 9 w= 1.9999791435002487 loss= 2.469416419574488e-09\n",
      "Epoch: 10 w= 1.9999810901068922 loss= 2.0299700487455895e-09\n",
      "Epoch: 11 w= 1.999982855030249 loss= 1.6687256009798603e-09\n",
      "Epoch: 12 w= 1.9999844552274257 loss= 1.371766609548254e-09\n",
      "Epoch: 13 w= 1.999985906072866 loss= 1.1276531204725252e-09\n",
      "Epoch: 14 w= 1.9999872215060652 loss= 9.269809829497494e-10\n",
      "Epoch: 15 w= 1.999988414165499 loss= 7.620195671191381e-10\n",
      "Epoch: 16 w= 1.9999894955100526 loss= 6.264139517215796e-10\n",
      "Epoch: 17 w= 1.9999904759291143 loss= 5.149401089318768e-10\n",
      "Epoch: 18 w= 1.999991364842397 loss= 4.233036557694424e-10\n",
      "Epoch: 19 w= 1.99999217079044 loss= 3.47974418527062e-10\n",
      "Epoch: 20 w= 1.9999929015166655 loss= 2.8605043756363944e-10\n",
      "Epoch: 21 w= 1.9999935640417768 loss= 2.351461730319416e-10\n",
      "Epoch: 22 w= 1.999994164731211 loss= 1.9330060517327963e-10\n",
      "Epoch: 23 w= 1.999994709356298 loss= 1.5890168858915366e-10\n",
      "Epoch: 24 w= 1.9999952031497101 loss= 1.3062425031741918e-10\n",
      "Epoch: 25 w= 1.9999956508557373 loss= 1.0737893928680942e-10\n",
      "Epoch: 26 w= 1.9999960567758686 loss= 8.8270260486003e-11\n",
      "Epoch: 27 w= 1.9999964248101207 loss= 7.256207723875048e-11\n",
      "Epoch: 28 w= 1.9999967584945095 loss= 5.964925247279011e-11\n",
      "Epoch: 29 w= 1.999997061035022 loss= 4.903433660737981e-11\n",
      "Epoch: 30 w= 1.99999733533842 loss= 4.030840399694845e-11\n",
      "Epoch: 31 w= 1.9999975840401674 loss= 3.313529956782591e-11\n",
      "Epoch: 32 w= 1.9999978095297517 loss= 2.7238688929053905e-11\n",
      "Epoch: 33 w= 1.9999980139736415 loss= 2.2391412909108122e-11\n",
      "Epoch: 34 w= 1.9999981993361016 loss= 1.8406736584033667e-11\n",
      "Epoch: 35 w= 1.9999983673980655 loss= 1.513115554895154e-11\n",
      "Epoch: 36 w= 1.999998519774246 loss= 1.243848235763325e-11\n",
      "Epoch: 37 w= 1.9999986579286497 loss= 1.0224985320645546e-11\n",
      "Epoch: 38 w= 1.9999987831886423 loss= 8.405392376989174e-12\n",
      "Epoch: 39 w= 1.9999988967577025 loss= 6.909606107972389e-12\n",
      "Epoch: 40 w= 1.9999989997269836 loss= 5.680003312816431e-12\n",
      "Epoch: 41 w= 1.9999990930857985 loss= 4.669215167726787e-12\n",
      "Epoch: 42 w= 1.999999177731124 loss= 3.83830238824482e-12\n",
      "Epoch: 43 w= 1.999999254476219 loss= 3.155255154808919e-12\n",
      "Epoch: 44 w= 1.9999993240584386 loss= 2.593759969699999e-12\n",
      "Epoch: 45 w= 1.9999993871463178 loss= 2.132185973933309e-12\n",
      "Epoch: 46 w= 1.9999994443459947 loss= 1.7527516336648503e-12\n",
      "Epoch: 47 w= 1.9999994962070353 loss= 1.440839742998853e-12\n",
      "Epoch: 48 w= 1.999999543227712 loss= 1.1844343058800304e-12\n",
      "Epoch: 49 w= 1.9999995858597923 loss= 9.736576414395159e-13\n",
      "Epoch: 50 w= 1.9999996245128784 loss= 8.003898544090114e-13\n",
      "Epoch: 51 w= 1.9999996595583431 loss= 6.579560331703111e-13\n",
      "Epoch: 52 w= 1.9999996913328977 loss= 5.408691012517321e-13\n",
      "Epoch: 53 w= 1.9999997201418271 loss= 4.4461844012431444e-13\n",
      "Epoch: 54 w= 1.9999997462619232 loss= 3.654961188144078e-13\n",
      "Epoch: 55 w= 1.9999997699441436 loss= 3.004540541517374e-13\n",
      "Epoch: 56 w= 1.9999997914160235 loss= 2.469865863254769e-13\n",
      "Epoch: 57 w= 1.9999998108838613 loss= 2.0303395115474217e-13\n",
      "Epoch: 58 w= 1.999999828534701 loss= 1.66902931698312e-13\n",
      "Epoch: 59 w= 1.9999998445381288 loss= 1.3720162774073653e-13\n",
      "Epoch: 60 w= 1.9999998590479036 loss= 1.1278583585515511e-13\n",
      "Epoch: 61 w= 1.9999998722034327 loss= 9.271496968522504e-14\n",
      "Epoch: 62 w= 1.9999998841311122 loss= 7.621582562121307e-14\n",
      "Epoch: 63 w= 1.9999998949455418 loss= 6.265279609927294e-14\n",
      "Epoch: 64 w= 1.9999999047506245 loss= 5.150338287212101e-14\n",
      "Epoch: 65 w= 1.9999999136405662 loss= 4.233806981952913e-14\n",
      "Epoch: 66 w= 1.99999992170078 loss= 3.4803775193755746e-14\n",
      "Epoch: 67 w= 1.9999999290087072 loss= 2.8610250045883864e-14\n",
      "Epoch: 68 w= 1.9999999356345612 loss= 2.35188970786036e-14\n",
      "Epoch: 69 w= 1.9999999416420022 loss= 1.933357857240197e-14\n",
      "Epoch: 70 w= 1.9999999470887486 loss= 1.589306090862069e-14\n",
      "Epoch: 71 w= 1.999999952027132 loss= 1.3064802438933907e-14\n",
      "Epoch: 72 w= 1.9999999565045998 loss= 1.07398482121278e-14\n",
      "Epoch: 73 w= 1.9999999605641705 loss= 8.828632567944822e-15\n",
      "Epoch: 74 w= 1.9999999642448478 loss= 7.257528338097003e-15\n",
      "Epoch: 75 w= 1.9999999675819953 loss= 5.966010930476005e-15\n",
      "Epoch: 76 w= 1.9999999706076756 loss= 4.904326170453415e-15\n",
      "Epoch: 77 w= 1.9999999733509592 loss= 4.031574090228466e-15\n",
      "Epoch: 78 w= 1.999999975838203 loss= 3.3141330976503296e-15\n",
      "Epoch: 79 w= 1.999999978093304 loss= 2.724364694968737e-15\n",
      "Epoch: 80 w= 1.999999980137929 loss= 2.2395488742462455e-15\n",
      "Epoch: 81 w= 1.9999999819917222 loss= 1.841008718917265e-15\n",
      "Epoch: 82 w= 1.9999999836724949 loss= 1.5133909910880908e-15\n",
      "Epoch: 83 w= 1.9999999851963954 loss= 1.244074658107541e-15\n",
      "Epoch: 84 w= 1.999999986578065 loss= 1.022684637796773e-15\n",
      "Epoch: 85 w= 1.999999987830779 loss= 8.406922423772652e-16\n",
      "Epoch: 86 w= 1.999999988966573 loss= 6.9108637602094e-16\n",
      "Epoch: 87 w= 1.9999999899963594 loss= 5.681037357692236e-16\n",
      "Epoch: 88 w= 1.9999999909300326 loss= 4.670065162242399e-16\n",
      "Epoch: 89 w= 1.9999999917765627 loss= 3.839001026220015e-16\n",
      "Epoch: 90 w= 1.9999999925440834 loss= 3.1558296571823256e-16\n",
      "Epoch: 91 w= 1.999999993239969 loss= 2.594232242156015e-16\n",
      "Epoch: 92 w= 1.9999999938709052 loss= 2.132574242690705e-16\n",
      "Epoch: 93 w= 1.999999994442954 loss= 1.7530708297392726e-16\n",
      "Epoch: 94 w= 1.9999999949616116 loss= 1.4411020615022906e-16\n",
      "Epoch: 95 w= 1.9999999954318612 loss= 1.1846500119529846e-16\n",
      "Epoch: 96 w= 1.9999999958582209 loss= 9.738349457896592e-17\n",
      "Epoch: 97 w= 1.999999996244787 loss= 8.005355897435174e-17\n",
      "Epoch: 98 w= 1.9999999965952735 loss= 6.580758284957657e-17\n",
      "Epoch: 99 w= 1.999999996913048 loss= 5.409676005437524e-17\n",
      "预测之后: 4 7.999999987652192\n"
     ]
    }
   ],
   "source": [
    "print(\"预测之前:\", 4, forward(4))\n",
    "for epoch in range(100):\n",
    "    cost_val = cost(x_data, y_data)\n",
    "    w_list.append(w)\n",
    "    mse_list.append(cost_val)\n",
    "    grad_val = gradient(x_data, y_data)\n",
    "    w -= 0.01 * grad_val\n",
    "    \n",
    "    \n",
    "    print(\"Epoch:\", epoch, \"w=\", w, \"loss=\", cost_val)\n",
    "print(\"预测之后:\", 4, forward(4))"
   ]
  },
  {
   "cell_type": "code",
   "execution_count": 30,
   "metadata": {},
   "outputs": [
    {
     "data": {
      "image/png": "[encoded data removed]",
      "text/plain": [
       "<Figure size 432x288 with 1 Axes>"
      ]
     },
     "metadata": {
      "needs_background": "light"
     },
     "output_type": "display_data"
    }
   ],
   "source": [
    "plt.plot(range(100), mse_list)\n",
    "plt.ylabel(\"Loss\")\n",
    "plt.xlabel(\"Epoch\")\n",
    "plt.show()"
   ]
  },
  {
   "cell_type": "code",
   "execution_count": null,
   "metadata": {},
   "outputs": [],
   "source": []
  }
 ],
 "metadata": {
  "kernelspec": {
   "display_name": "Python 3",
   "language": "python",
   "name": "python3"
  },
  "language_info": {
   "codemirror_mode": {
    "name": "ipython",
    "version": 3
   },
   "file_extension": ".py",
   "mimetype": "text/x-python",
   "name": "python",
   "nbconvert_exporter": "python",
   "pygments_lexer": "ipython3",
   "version": "3.8.5"
  }
 },
 "nbformat": 4,
 "nbformat_minor": 4
}
