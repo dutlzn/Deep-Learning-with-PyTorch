{
 "cells": [
  {
   "cell_type": "code",
   "execution_count": 46,
   "metadata": {},
   "outputs": [],
   "source": [
    "import numpy as np\n",
    "import torch \n",
    "import torch.nn as nn \n",
    "from torchvision import transforms\n",
    "from torch.utils.data import Dataset\n",
    "from torch.utils.data import DataLoader\n",
    "import torch.nn.functional as F\n",
    "import torch.optim as optim"
   ]
  },
  {
   "cell_type": "code",
   "execution_count": 62,
   "metadata": {},
   "outputs": [],
   "source": [
    "class Net(nn.Module):\n",
    "    def __init__(self):\n",
    "        super(Net, self).__init__()\n",
    "        self.linear1 = nn.Linear(8,4)\n",
    "        self.linear2 = nn.Linear(4,1)\n",
    "        self.sigmoid = nn.Sigmoid()\n",
    "\n",
    "    def forward(self, x):\n",
    "        x = self.sigmoid(self.linear1(x))\n",
    "        x = self.sigmoid(self.linear2(x))\n",
    "        return x\n",
    "\n",
    "\n",
    "\n"
   ]
  },
  {
   "cell_type": "code",
   "execution_count": 63,
   "metadata": {},
   "outputs": [],
   "source": [
    "model = Net()"
   ]
  },
  {
   "cell_type": "code",
   "execution_count": 64,
   "metadata": {},
   "outputs": [],
   "source": [
    "class DatasetReader(Dataset):\n",
    "    def __init__(self, filepath):\n",
    "        xy = np.loadtxt(filepath, delimiter=',', dtype=np.float32)\n",
    "        self.x = torch.from_numpy(xy[:, :-1])\n",
    "        self.y = torch.from_numpy(xy[:, [-1]])\n",
    "        self.len = xy.shape[0]\n",
    "    def __getitem__(self, index):\n",
    "        return self.x.data[index], self.y.data[index]\n",
    "    def __len__(self):\n",
    "        return self.len"
   ]
  },
  {
   "cell_type": "code",
   "execution_count": 65,
   "metadata": {},
   "outputs": [],
   "source": [
    "dataset = DatasetReader(\"../../dataset/diabetes.csv.gz\")"
   ]
  },
  {
   "cell_type": "code",
   "execution_count": 66,
   "metadata": {},
   "outputs": [
    {
     "name": "stdout",
     "output_type": "stream",
     "text": [
      "(tensor([-0.2941,  0.4874,  0.1803, -0.2929,  0.0000,  0.0015, -0.5312, -0.0333]), tensor([0.]))\n"
     ]
    }
   ],
   "source": [
    "print(dataset[0])"
   ]
  },
  {
   "cell_type": "code",
   "execution_count": 67,
   "metadata": {},
   "outputs": [
    {
     "name": "stdout",
     "output_type": "stream",
     "text": [
      "759\n"
     ]
    }
   ],
   "source": [
    "print(len(dataset))"
   ]
  },
  {
   "cell_type": "code",
   "execution_count": 68,
   "metadata": {},
   "outputs": [],
   "source": [
    "train_loader = DataLoader(dataset, batch_size=8, shuffle=8)"
   ]
  },
  {
   "cell_type": "code",
   "execution_count": 69,
   "metadata": {},
   "outputs": [],
   "source": [
    "cost = nn.BCELoss(size_average=True)\n",
    "# cost = nn.CrossEntropyLoss(size_average=True)\n",
    "optimizer = torch.optim.SGD(model.parameters(), lr=0.01)"
   ]
  },
  {
   "cell_type": "code",
   "execution_count": 71,
   "metadata": {},
   "outputs": [
    {
     "name": "stdout",
     "output_type": "stream",
     "text": [
      "0 \t 0.6733006238937378\n",
      "10 \t 0.6438858509063721\n",
      "20 \t 0.4838702082633972\n",
      "30 \t 0.6635079979896545\n",
      "40 \t 0.45001375675201416\n",
      "50 \t 0.43362975120544434\n",
      "60 \t 0.5048892498016357\n",
      "70 \t 0.4704350531101227\n",
      "80 \t 0.43273597955703735\n",
      "90 \t 0.2949162721633911\n",
      "100 \t 0.42759883403778076\n",
      "110 \t 0.35866624116897583\n",
      "120 \t 0.7004147171974182\n",
      "130 \t 0.2203650176525116\n",
      "140 \t 0.6436548233032227\n",
      "150 \t 0.23288267850875854\n",
      "160 \t 0.2508948743343353\n",
      "170 \t 0.5801991820335388\n",
      "180 \t 0.5235145688056946\n",
      "190 \t 0.6200032830238342\n",
      "200 \t 0.42710456252098083\n",
      "210 \t 0.7341877222061157\n",
      "220 \t 0.926903247833252\n",
      "230 \t 0.33262357115745544\n",
      "240 \t 0.2215380221605301\n",
      "250 \t 0.47110670804977417\n",
      "260 \t 0.466092050075531\n",
      "270 \t 0.5151141285896301\n",
      "280 \t 0.632909893989563\n",
      "290 \t 0.45333021879196167\n",
      "300 \t 0.4339320659637451\n",
      "310 \t 0.46825122833251953\n",
      "320 \t 0.6269218921661377\n",
      "330 \t 0.3741642236709595\n",
      "340 \t 0.5266153812408447\n",
      "350 \t 0.617713987827301\n",
      "360 \t 0.7242790460586548\n",
      "370 \t 0.44863736629486084\n",
      "380 \t 0.13924454152584076\n",
      "390 \t 0.76436847448349\n",
      "400 \t 0.5542713403701782\n",
      "410 \t 0.849794328212738\n",
      "420 \t 0.47244489192962646\n",
      "430 \t 0.4991338849067688\n",
      "440 \t 0.46785810589790344\n",
      "450 \t 0.39192232489585876\n",
      "460 \t 0.6164425611495972\n",
      "470 \t 0.6605366468429565\n",
      "480 \t 0.45991072058677673\n",
      "490 \t 0.5316994190216064\n",
      "500 \t 0.29900819063186646\n",
      "510 \t 0.542502760887146\n",
      "520 \t 0.2639816999435425\n",
      "530 \t 0.44410306215286255\n",
      "540 \t 0.7918055653572083\n",
      "550 \t 0.5458899736404419\n",
      "560 \t 0.4349551200866699\n",
      "570 \t 0.36856842041015625\n",
      "580 \t 0.48414868116378784\n",
      "590 \t 0.21766534447669983\n",
      "600 \t 0.7871458530426025\n",
      "610 \t 0.268032431602478\n",
      "620 \t 0.4774237871170044\n",
      "630 \t 0.24889561533927917\n",
      "640 \t 0.22837607562541962\n",
      "650 \t 0.31186503171920776\n",
      "660 \t 0.1579628735780716\n",
      "670 \t 0.6671276092529297\n",
      "680 \t 0.5576509237289429\n",
      "690 \t 0.9274486899375916\n",
      "700 \t 0.601764976978302\n",
      "710 \t 0.519023060798645\n",
      "720 \t 0.5664688348770142\n",
      "730 \t 0.5331873893737793\n",
      "740 \t 0.40001097321510315\n",
      "750 \t 0.200972780585289\n",
      "760 \t 0.32498446106910706\n",
      "770 \t 0.5117782950401306\n",
      "780 \t 0.4740961194038391\n",
      "790 \t 0.5510206818580627\n",
      "800 \t 0.7938573956489563\n",
      "810 \t 0.30662500858306885\n",
      "820 \t 0.6046707630157471\n",
      "830 \t 0.6136930584907532\n",
      "840 \t 0.7632176280021667\n",
      "850 \t 0.5051799416542053\n",
      "860 \t 0.6031384468078613\n",
      "870 \t 0.5121630430221558\n",
      "880 \t 0.15944063663482666\n",
      "890 \t 0.4203028976917267\n",
      "900 \t 0.4242367744445801\n",
      "910 \t 0.3873392939567566\n",
      "920 \t 0.6851986646652222\n",
      "930 \t 0.583589494228363\n",
      "940 \t 0.3831886053085327\n",
      "950 \t 0.2500433921813965\n",
      "960 \t 0.2802911400794983\n",
      "970 \t 0.31313279271125793\n",
      "980 \t 0.34916847944259644\n",
      "990 \t 0.39163264632225037\n"
     ]
    }
   ],
   "source": [
    "epoch_num = 1000\n",
    "for epoch in range(epoch_num):\n",
    "    for i, data in enumerate(train_loader, 0):\n",
    "        features, labels = data \n",
    "        \n",
    "        y_pred = model(features)\n",
    "        optimizer.zero_grad()\n",
    "        loss = cost(y_pred, labels)\n",
    "        if epoch % 10 == 0 and i == 0:\n",
    "            print(epoch, \"\\t\", loss.item())\n",
    "\n",
    "        loss.backward()\n",
    "        optimizer.step()\n",
    "        \n",
    "    \n",
    "        "
   ]
  },
  {
   "cell_type": "code",
   "execution_count": null,
   "metadata": {},
   "outputs": [],
   "source": []
  },
  {
   "cell_type": "code",
   "execution_count": null,
   "metadata": {},
   "outputs": [],
   "source": []
  },
  {
   "cell_type": "code",
   "execution_count": null,
   "metadata": {},
   "outputs": [],
   "source": []
  },
  {
   "cell_type": "code",
   "execution_count": null,
   "metadata": {},
   "outputs": [],
   "source": []
  },
  {
   "cell_type": "code",
   "execution_count": null,
   "metadata": {},
   "outputs": [],
   "source": []
  },
  {
   "cell_type": "code",
   "execution_count": null,
   "metadata": {},
   "outputs": [],
   "source": []
  },
  {
   "cell_type": "code",
   "execution_count": null,
   "metadata": {},
   "outputs": [],
   "source": []
  },
  {
   "cell_type": "code",
   "execution_count": null,
   "metadata": {},
   "outputs": [],
   "source": []
  },
  {
   "cell_type": "code",
   "execution_count": null,
   "metadata": {},
   "outputs": [],
   "source": []
  },
  {
   "cell_type": "code",
   "execution_count": null,
   "metadata": {},
   "outputs": [],
   "source": []
  }
 ],
 "metadata": {
  "kernelspec": {
   "display_name": "Python 3",
   "language": "python",
   "name": "python3"
  },
  "language_info": {
   "codemirror_mode": {
    "name": "ipython",
    "version": 3
   },
   "file_extension": ".py",
   "mimetype": "text/x-python",
   "name": "python",
   "nbconvert_exporter": "python",
   "pygments_lexer": "ipython3",
   "version": "3.8.5"
  }
 },
 "nbformat": 4,
 "nbformat_minor": 4
}
