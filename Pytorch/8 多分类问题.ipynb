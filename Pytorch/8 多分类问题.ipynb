{
 "cells": [
  {
   "cell_type": "code",
   "execution_count": 1,
   "metadata": {},
   "outputs": [],
   "source": [
    "import numpy as np\n",
    "import torch \n",
    "import torch.nn as nn \n",
    "from torchvision import transforms\n",
    "from torchvision import datasets\n",
    "from torch.utils.data import DataLoader\n",
    "import torch.nn.functional as F\n",
    "import torch.optim as optim"
   ]
  },
  {
   "cell_type": "code",
   "execution_count": 2,
   "metadata": {},
   "outputs": [
    {
     "name": "stdout",
     "output_type": "stream",
     "text": [
      "0.9729189131256584\n"
     ]
    }
   ],
   "source": [
    "y = np.array([1, 0, 0])\n",
    "z = np.array([0.2, 0.1, -0.1])\n",
    "y_pred = np.exp(z) / np.exp(z).sum()\n",
    "loss = ( -y * np.log(y_pred)).sum()\n",
    "print(loss)"
   ]
  },
  {
   "cell_type": "code",
   "execution_count": 3,
   "metadata": {},
   "outputs": [
    {
     "name": "stdout",
     "output_type": "stream",
     "text": [
      "tensor(0.9729)\n"
     ]
    }
   ],
   "source": [
    "y = torch.LongTensor([0])\n",
    "z = torch.Tensor([[0.2, 0.1, -0.1]])\n",
    "criterion = nn.CrossEntropyLoss()\n",
    "loss = criterion(z, y)\n",
    "print(loss)"
   ]
  },
  {
   "cell_type": "code",
   "execution_count": 4,
   "metadata": {},
   "outputs": [],
   "source": [
    "criterion = nn.CrossEntropyLoss()\n",
    "Y = torch.LongTensor([2, 0, 1])\n",
    "\n",
    "Y_pred1 = torch.Tensor([[0.1, 0.2, 0.9],\n",
    "                        [1.1, 0.1, 0.2],\n",
    "                        [0.2, 2.1, 0.1]])\n",
    "Y_pred2 = torch.Tensor([[0.8, 0.2, 0.3],\n",
    "                       [0.2, 0.3, 0.5],\n",
    "                       [0.2, 0.2, 0.5]])"
   ]
  },
  {
   "cell_type": "code",
   "execution_count": 5,
   "metadata": {},
   "outputs": [],
   "source": [
    "l1 = criterion(Y_pred1, Y)"
   ]
  },
  {
   "cell_type": "code",
   "execution_count": 6,
   "metadata": {},
   "outputs": [],
   "source": [
    "l2 = criterion(Y_pred2, Y)"
   ]
  },
  {
   "cell_type": "code",
   "execution_count": 7,
   "metadata": {},
   "outputs": [
    {
     "name": "stdout",
     "output_type": "stream",
     "text": [
      "Batch Loss1 =  tensor(0.4966)\n"
     ]
    }
   ],
   "source": [
    "print(\"Batch Loss1 = \", l1.data)"
   ]
  },
  {
   "cell_type": "code",
   "execution_count": 8,
   "metadata": {},
   "outputs": [
    {
     "name": "stdout",
     "output_type": "stream",
     "text": [
      "Batch Loss2 =  tensor(1.2389)\n"
     ]
    }
   ],
   "source": [
    "print(\"Batch Loss2 = \", l2.data)"
   ]
  },
  {
   "cell_type": "code",
   "execution_count": 9,
   "metadata": {},
   "outputs": [
    {
     "data": {
      "text/plain": [
       "torch.Size([3, 3])"
      ]
     },
     "execution_count": 9,
     "metadata": {},
     "output_type": "execute_result"
    }
   ],
   "source": [
    "Y_pred1.shape"
   ]
  },
  {
   "cell_type": "markdown",
   "metadata": {},
   "source": [
    "## MNIST"
   ]
  },
  {
   "cell_type": "code",
   "execution_count": 10,
   "metadata": {},
   "outputs": [],
   "source": [
    "batch_size = 64\n",
    "transform = transforms.Compose([\n",
    "    transforms.ToTensor(),\n",
    "    transforms.Normalize((0.1307, ), (0.3081,))\n",
    "])\n"
   ]
  },
  {
   "cell_type": "code",
   "execution_count": 11,
   "metadata": {},
   "outputs": [],
   "source": [
    "train_datasets = datasets.MNIST(\n",
    "    root=\"../../dataset/mnist\",\n",
    "    train=True,\n",
    "    download=True,\n",
    "    transform=transform\n",
    ")"
   ]
  },
  {
   "cell_type": "code",
   "execution_count": 12,
   "metadata": {},
   "outputs": [],
   "source": [
    "train_loader = DataLoader(train_datasets, shuffle=True, batch_size=batch_size)"
   ]
  },
  {
   "cell_type": "code",
   "execution_count": 13,
   "metadata": {},
   "outputs": [],
   "source": [
    "test_datasets = datasets.MNIST(root=\"../../dataset/mnist\",\n",
    "                               train=False,\n",
    "                               download=True,\n",
    "                               transform=transform)"
   ]
  },
  {
   "cell_type": "code",
   "execution_count": 14,
   "metadata": {},
   "outputs": [],
   "source": [
    "test_loader = DataLoader(test_datasets, shuffle=True, batch_size=batch_size)"
   ]
  },
  {
   "cell_type": "code",
   "execution_count": 15,
   "metadata": {},
   "outputs": [],
   "source": [
    "class Net(nn.Module):\n",
    "    def __init__(self):\n",
    "        super(Net, self).__init__()\n",
    "        self.l1 = nn.Linear(784, 512)\n",
    "        self.l2 = nn.Linear(512, 256)\n",
    "        self.l3 = nn.Linear(256, 128)\n",
    "        self.l4 = nn.Linear(128, 64)\n",
    "        self.l5 = nn.Linear(64, 10)\n",
    "    \n",
    "    def forward(self, x):\n",
    "        x = x.view(-1, 784)\n",
    "        x = F.relu(self.l1(x))\n",
    "        x = F.relu(self.l2(x))\n",
    "        x = F.relu(self.l3(x))\n",
    "        x = F.relu(self.l4(x))\n",
    "        return self.l5(x)\n",
    "\n",
    "model = Net()"
   ]
  },
  {
   "cell_type": "code",
   "execution_count": 16,
   "metadata": {},
   "outputs": [],
   "source": [
    "criterion = nn.CrossEntropyLoss()\n",
    "optimizer = optim.SGD(model.parameters(), lr=0.01, momentum=0.5)"
   ]
  },
  {
   "cell_type": "code",
   "execution_count": 17,
   "metadata": {},
   "outputs": [],
   "source": [
    "def train(epoch):\n",
    "    running_loss = 0.0\n",
    "    for batch_idx, data in enumerate(train_loader, 0):\n",
    "        inputs, target = data\n",
    "        optimizer.zero_grad()\n",
    "        \n",
    "        outputs = model(inputs)\n",
    "        loss = criterion(outputs, target)\n",
    "        loss.backward()\n",
    "        optimizer.step()\n",
    "        \n",
    "        running_loss += loss.item()\n",
    "        if batch_idx % 300 == 299:\n",
    "            print('[%d, %5d] loss : %.3f' % (epoch + 1, batch_idx + 1, running_loss/300))\n",
    "            running_loss = 0.0"
   ]
  },
  {
   "cell_type": "code",
   "execution_count": 18,
   "metadata": {},
   "outputs": [],
   "source": [
    "def test():\n",
    "    correct = 0\n",
    "    total = 0\n",
    "    with torch.no_grad():\n",
    "        for data in test_loader:\n",
    "            images, labels = data \n",
    "            outputs = model(images)\n",
    "            _, predicted = torch.max(outputs.data, dim=1)\n",
    "            total += labels.size(0)\n",
    "            correct += (predicted == labels).sum().item()\n",
    "    print(\"Accuracy on test set : %d %%\" % ( 100 *correct / total))\n",
    "            "
   ]
  },
  {
   "cell_type": "code",
   "execution_count": 19,
   "metadata": {},
   "outputs": [
    {
     "name": "stdout",
     "output_type": "stream",
     "text": [
      "[1,   300] loss : 2.145\n",
      "[1,   600] loss : 0.785\n",
      "[1,   900] loss : 0.418\n",
      "Accuracy on test set : 86 %\n",
      "[2,   300] loss : 0.323\n",
      "[2,   600] loss : 0.271\n",
      "[2,   900] loss : 0.224\n",
      "Accuracy on test set : 94 %\n",
      "[3,   300] loss : 0.189\n",
      "[3,   600] loss : 0.160\n",
      "[3,   900] loss : 0.161\n",
      "Accuracy on test set : 95 %\n",
      "[4,   300] loss : 0.129\n",
      "[4,   600] loss : 0.125\n",
      "[4,   900] loss : 0.115\n",
      "Accuracy on test set : 96 %\n",
      "[5,   300] loss : 0.095\n",
      "[5,   600] loss : 0.097\n",
      "[5,   900] loss : 0.096\n",
      "Accuracy on test set : 97 %\n",
      "[6,   300] loss : 0.077\n",
      "[6,   600] loss : 0.079\n",
      "[6,   900] loss : 0.072\n",
      "Accuracy on test set : 97 %\n",
      "[7,   300] loss : 0.060\n",
      "[7,   600] loss : 0.059\n",
      "[7,   900] loss : 0.063\n",
      "Accuracy on test set : 97 %\n",
      "[8,   300] loss : 0.048\n",
      "[8,   600] loss : 0.052\n",
      "[8,   900] loss : 0.051\n",
      "Accuracy on test set : 97 %\n",
      "[9,   300] loss : 0.040\n",
      "[9,   600] loss : 0.041\n",
      "[9,   900] loss : 0.040\n",
      "Accuracy on test set : 97 %\n",
      "[10,   300] loss : 0.030\n",
      "[10,   600] loss : 0.035\n",
      "[10,   900] loss : 0.033\n",
      "Accuracy on test set : 97 %\n"
     ]
    }
   ],
   "source": [
    "if __name__ == '__main__':\n",
    "    for epoch in range(10):\n",
    "        train(epoch)\n",
    "        test()"
   ]
  },
  {
   "cell_type": "code",
   "execution_count": null,
   "metadata": {},
   "outputs": [],
   "source": []
  }
 ],
 "metadata": {
  "kernelspec": {
   "display_name": "Python 3",
   "language": "python",
   "name": "python3"
  },
  "language_info": {
   "codemirror_mode": {
    "name": "ipython",
    "version": 3
   },
   "file_extension": ".py",
   "mimetype": "text/x-python",
   "name": "python",
   "nbconvert_exporter": "python",
   "pygments_lexer": "ipython3",
   "version": "3.8.5"
  }
 },
 "nbformat": 4,
 "nbformat_minor": 4
}
